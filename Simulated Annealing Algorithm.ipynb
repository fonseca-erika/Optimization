{
 "cells": [
  {
   "cell_type": "markdown",
   "metadata": {},
   "source": [
    "<h1><div class=\"alert alert-block alert-warning\">\n",
    "Simulated Annealing\n",
    "</div></h1>"
   ]
  },
  {
   "cell_type": "markdown",
   "metadata": {},
   "source": [
    "<h2>Dual Annealing</h2>"
   ]
  },
  {
   "cell_type": "code",
   "execution_count": 111,
   "metadata": {},
   "outputs": [
    {
     "name": "stdout",
     "output_type": "stream",
     "text": [
      "global minimum: xmin = [0.99999953 0.999999   0.99999802 0.99999594 0.99999182], f(xmin) = 0.000000\n"
     ]
    }
   ],
   "source": [
    "from scipy import optimize\n",
    "\n",
    "lw = [-5,-5,-5,-5,-5]\n",
    "up = [10,10,10,10,10]\n",
    "\n",
    "def f(x):\n",
    "    return sum(100.0*(x[1:]-x[:-1]**2.0)**2.0 + (x[:-1]-1)**2.0)\n",
    "\n",
    "res = optimize.dual_annealing(f, bounds=list(zip(lw, up)))\n",
    "\n",
    "print(\"global minimum: xmin = {0}, f(xmin) = {1:.6f}\".format(res.x, res.fun))"
   ]
  },
  {
   "cell_type": "markdown",
   "metadata": {},
   "source": [
    "Using the package that the teacher \n",
    "\n",
    "https://github.com/perrygeo/simanneal"
   ]
  },
  {
   "cell_type": "markdown",
   "metadata": {},
   "source": [
    "<h1><font color = \"blue\">Simulated annealing from scratch</font></h1>\n",
    "\n",
    "1) Choose a random Xi, select the initial system temperature, and specify the cooling (i.e. annealing) schedule <br>\n",
    "2) Evaluate E(Xi) using a simulation model <br>\n",
    "3) Perturb Xi to obtain a neighboring Design Vector (Xi+1) <br>\n",
    "4) Evaluate E(Xi+1) using a simulation model <br>\n",
    "5) If E(Xi+1)< E(Xi), Xi+1 is the new current solution <br>\n",
    "6) If E(Xi+1)> E(Xi), then accept Xi+1 as the new current solution with a probability e(- /T) where = E(Xi+1) - E(Xi). <br>\n",
    "7) Reduce the system temperature according to the cooling schedule. <br>\n",
    "8) Terminate the algorithm."
   ]
  },
  {
   "cell_type": "markdown",
   "metadata": {},
   "source": [
    "The perturbation in simulated annealing would be around $10^{-4}$ and $10^{-2}$"
   ]
  },
  {
   "cell_type": "code",
   "execution_count": 113,
   "metadata": {},
   "outputs": [
    {
     "name": "stdout",
     "output_type": "stream",
     "text": [
      "best fit of the algorithm: [0.97365603 0.99705171 1.00061448 1.00332441 0.96756462]\n",
      "cost function at best fit : 0.3987724814039987\n"
     ]
    },
    {
     "data": {
      "image/png": "[encoded data removed]",
      "text/plain": [
       "<Figure size 432x288 with 1 Axes>"
      ]
     },
     "metadata": {
      "needs_background": "light"
     },
     "output_type": "display_data"
    }
   ],
   "source": [
    "import random\n",
    "import math\n",
    "import numpy as np\n",
    "import matplotlib.pyplot as plt\n",
    "\n",
    "interval = (-5, 10)\n",
    "\n",
    "def f(x):\n",
    "    return sum(100.0*(x[1:]-x[:-1]**2.0)**2.0 + (x[:-1]-1)**2.0)\n",
    "\n",
    "def move_(fraction=1):\n",
    "    \"\"\"Move a little bit x, from the left or the right.\"\"\"\n",
    "    amplitude = (max(interval) - min(interval)) * fraction / 10\n",
    "    delta = (-amplitude/2.) + amplitude * random.random()\n",
    "    return delta\n",
    "\n",
    "def simulated_annealing(max_it,init_temp, alpha, final_temp, initial_state, debug=False):\n",
    "    perturbation = np.zeros(len(initial_state))\n",
    "    #The initial configuration\n",
    "    current_state = initial_state\n",
    "    #The energy at the initial configuration \n",
    "    costs = [f(current_state)]\n",
    "    iterations = [1]\n",
    "    t = init_temp\n",
    "    while (t > final_temp):\n",
    "        for i in range(1, max_it):\n",
    "            #Perturb the configuration and evaluate the difference in terms of energy\n",
    "            for j in range(0, len(initial_state)):\n",
    "                perturbation[j] = move_()\n",
    "            next_state = current_state + perturbation\n",
    "            energy_delta = f(next_state) - f(current_state)\n",
    "            if (debug == True):\n",
    "                print(\"Step #: \" + str(i) + \", Temp = \" +str(t)+ \" Energy = \"+ str(f(current_state)) + \" New Energy = \" + str(f(next_state))+\" delta = \" + str(energy_delta))\n",
    "            if ((energy_delta < 0) or (math.exp(-energy_delta/t))>= random.random()):\n",
    "                #accept the new configuration\n",
    "                current_state = next_state\n",
    "            costs.append(f(current_state))\n",
    "            iterations.append(len(iterations))\n",
    "        t = alpha*t\n",
    "        plt.plot(iterations,costs)\n",
    "    return current_state \n",
    "\n",
    "initial_config = np.random.rand(5)\n",
    "res = simulated_annealing(max_it=10000,init_temp=1000,alpha=.5,final_temp=.1,initial_state=initial_config)\n",
    "print (\"best fit of the algorithm:\", res)\n",
    "print (\"cost function at best fit :\", f(res))\n"
   ]
  },
  {
   "cell_type": "code",
   "execution_count": null,
   "metadata": {},
   "outputs": [],
   "source": []
  },
  {
   "cell_type": "code",
   "execution_count": null,
   "metadata": {},
   "outputs": [],
   "source": []
  },
  {
   "cell_type": "code",
   "execution_count": null,
   "metadata": {},
   "outputs": [],
   "source": []
  }
 ],
 "metadata": {
  "kernelspec": {
   "display_name": "Python 3",
   "language": "python",
   "name": "python3"
  },
  "language_info": {
   "codemirror_mode": {
    "name": "ipython",
    "version": 3
   },
   "file_extension": ".py",
   "mimetype": "text/x-python",
   "name": "python",
   "nbconvert_exporter": "python",
   "pygments_lexer": "ipython3",
   "version": "3.7.6"
  }
 },
 "nbformat": 4,
 "nbformat_minor": 2
}
