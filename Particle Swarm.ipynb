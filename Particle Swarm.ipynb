{
 "cells": [
  {
   "cell_type": "markdown",
   "metadata": {},
   "source": [
    "<h1><div class=\"alert alert-block alert-info\">\n",
    "Particle Swarm Optimization\n",
    "</div></h1>"
   ]
  },
  {
   "cell_type": "code",
   "execution_count": 2,
   "metadata": {},
   "outputs": [
    {
     "name": "stdout",
     "output_type": "stream",
     "text": [
      "Collecting pyswarm\n",
      "  Using cached pyswarm-0.6.tar.gz (4.3 kB)\n",
      "Requirement already satisfied: numpy in c:\\users\\fonse\\pythonenvs\\myenv\\lib\\site-packages (from pyswarm) (1.18.1)\n",
      "Building wheels for collected packages: pyswarm\n",
      "  Building wheel for pyswarm (setup.py): started\n",
      "  Building wheel for pyswarm (setup.py): finished with status 'done'\n",
      "  Created wheel for pyswarm: filename=pyswarm-0.6-py3-none-any.whl size=4483 sha256=c25997d57b3d71efee38626bf0d5019fe4db7c2b24ca572f40ed8e58744d8840\n",
      "  Stored in directory: c:\\users\\fonse\\appdata\\local\\pip\\cache\\wheels\\ac\\69\\65\\926e9c51b9fa99757cb43e8f6b74c5e6bb8b41a038b35c2db1\n",
      "Successfully built pyswarm\n",
      "Installing collected packages: pyswarm\n",
      "Successfully installed pyswarm-0.6\n"
     ]
    }
   ],
   "source": [
    "#Used to install pyswarm on the Python environment\n",
    "import sys\n",
    "!{sys.executable} -m pip install pyswarm"
   ]
  },
  {
   "cell_type": "code",
   "execution_count": 3,
   "metadata": {},
   "outputs": [],
   "source": [
    "import numpy as np\n",
    "import random\n",
    "from pyswarm import pso"
   ]
  },
  {
   "cell_type": "code",
   "execution_count": 4,
   "metadata": {},
   "outputs": [],
   "source": [
    "def rosen(x):\n",
    "    return sum(100.0*(x[1:]-x[:-1]**2.0)**2.0 + (x[:-1]-1)**2.0)"
   ]
  },
  {
   "cell_type": "code",
   "execution_count": 6,
   "metadata": {},
   "outputs": [
    {
     "name": "stdout",
     "output_type": "stream",
     "text": [
      "No constraints given.\n",
      "New best for swarm at iteration 1: [1.79581503 3.39606879] 3.5614299829752287\n",
      "Best after iteration 1: [1.79581503 3.39606879] 3.5614299829752287\n",
      "Best after iteration 2: [1.79581503 3.39606879] 3.5614299829752287\n",
      "Best after iteration 3: [1.79581503 3.39606879] 3.5614299829752287\n",
      "New best for swarm at iteration 4: [1.25739988 1.48261916] 1.035205213685826\n",
      "Best after iteration 4: [1.25739988 1.48261916] 1.035205213685826\n",
      "Best after iteration 5: [1.25739988 1.48261916] 1.035205213685826\n",
      "New best for swarm at iteration 6: [1.493101   2.21125799] 0.2758828875000039\n",
      "Best after iteration 6: [1.493101   2.21125799] 0.2758828875000039\n",
      "New best for swarm at iteration 7: [0.537778   0.30327294] 0.23343936470002608\n",
      "New best for swarm at iteration 7: [0.65564946 0.42450336] 0.12146404975020116\n",
      "Best after iteration 7: [0.65564946 0.42450336] 0.12146404975020116\n",
      "Best after iteration 8: [0.65564946 0.42450336] 0.12146404975020116\n",
      "New best for swarm at iteration 9: [1.1277973  1.29305289] 0.06096357402746232\n",
      "Best after iteration 9: [1.1277973  1.29305289] 0.06096357402746232\n",
      "New best for swarm at iteration 10: [0.94079157 0.86498226] 0.043932864544630086\n",
      "New best for swarm at iteration 10: [1.15547719 1.32482387] 0.03478970682304183\n",
      "New best for swarm at iteration 10: [1.03092688 1.07524619] 0.016421775005027863\n",
      "Best after iteration 10: [1.03092688 1.07524619] 0.016421775005027863\n",
      "New best for swarm at iteration 11: [1.04830374 1.09651288] 0.0029226931202930542\n",
      "Best after iteration 11: [1.04830374 1.09651288] 0.0029226931202930542\n",
      "New best for swarm at iteration 12: [1.00174113 1.00169055] 0.00032513903330256953\n",
      "Best after iteration 12: [1.00174113 1.00169055] 0.00032513903330256953\n",
      "Best after iteration 13: [1.00174113 1.00169055] 0.00032513903330256953\n",
      "Best after iteration 14: [1.00174113 1.00169055] 0.00032513903330256953\n",
      "Best after iteration 15: [1.00174113 1.00169055] 0.00032513903330256953\n",
      "Best after iteration 16: [1.00174113 1.00169055] 0.00032513903330256953\n",
      "New best for swarm at iteration 17: [0.99924003 0.99809483] 1.546142015147057e-05\n",
      "Best after iteration 17: [0.99924003 0.99809483] 1.546142015147057e-05\n",
      "Best after iteration 18: [0.99924003 0.99809483] 1.546142015147057e-05\n",
      "Best after iteration 19: [0.99924003 0.99809483] 1.546142015147057e-05\n",
      "New best for swarm at iteration 20: [1.00034294 1.00030496] 1.463682213086662e-05\n",
      "Best after iteration 20: [1.00034294 1.00030496] 1.463682213086662e-05\n",
      "New best for swarm at iteration 21: [0.99883001 0.99744978] 5.84615165100296e-06\n",
      "New best for swarm at iteration 21: [0.99840267 0.99684985] 2.7274772777672545e-06\n",
      "Best after iteration 21: [0.99840267 0.99684985] 2.7274772777672545e-06\n",
      "New best for swarm at iteration 22: [0.99871323 0.99744044] 1.6709953907738959e-06\n",
      "Best after iteration 22: [0.99871323 0.99744044] 1.6709953907738959e-06\n",
      "Best after iteration 23: [0.99871323 0.99744044] 1.6709953907738959e-06\n",
      "Best after iteration 24: [0.99871323 0.99744044] 1.6709953907738959e-06\n",
      "New best for swarm at iteration 25: [0.99919286 0.9983757 ] 6.62869216628437e-07\n",
      "Best after iteration 25: [0.99919286 0.9983757 ] 6.62869216628437e-07\n",
      "New best for swarm at iteration 26: [0.99973681 0.99943444] 2.2340531157145348e-07\n",
      "Best after iteration 26: [0.99973681 0.99943444] 2.2340531157145348e-07\n",
      "Best after iteration 27: [0.99973681 0.99943444] 2.2340531157145348e-07\n",
      "Best after iteration 28: [0.99973681 0.99943444] 2.2340531157145348e-07\n",
      "New best for swarm at iteration 29: [0.99971616 0.99946244] 1.7080751287789486e-07\n",
      "Best after iteration 29: [0.99971616 0.99946244] 1.7080751287789486e-07\n",
      "New best for swarm at iteration 30: [1.00010975 1.00023215] 2.8023789737266433e-08\n",
      "Best after iteration 30: [1.00010975 1.00023215] 2.8023789737266433e-08\n",
      "Best after iteration 31: [1.00010975 1.00023215] 2.8023789737266433e-08\n",
      "Best after iteration 32: [1.00010975 1.00023215] 2.8023789737266433e-08\n",
      "New best for swarm at iteration 33: [0.9999963  0.99998521] 5.478950738094285e-09\n",
      "Best after iteration 33: [0.9999963  0.99998521] 5.478950738094285e-09\n",
      "Best after iteration 34: [0.9999963  0.99998521] 5.478950738094285e-09\n",
      "Best after iteration 35: [0.9999963  0.99998521] 5.478950738094285e-09\n",
      "New best for swarm at iteration 36: [0.99999763 0.99999822] 8.799641894457437e-10\n",
      "Stopping search: Swarm best objective change less than 1e-08\n"
     ]
    }
   ],
   "source": [
    "dim = 2\n",
    "\n",
    "lb = [-5]*dim\n",
    "ub = [10]*dim\n",
    "\n",
    "xopt, fopt = pso(rosen, lb, ub, debug=True)"
   ]
  },
  {
   "cell_type": "code",
   "execution_count": 10,
   "metadata": {},
   "outputs": [
    {
     "name": "stdout",
     "output_type": "stream",
     "text": [
      "x optimum:  [0.99967765 0.99936209]\n",
      "function optimum:  1.0838891294970425e-07\n"
     ]
    }
   ],
   "source": [
    "print(\"x optimum: \", xopt)\n",
    "print(\"function optimum: \", fopt)"
   ]
  },
  {
   "cell_type": "code",
   "execution_count": 39,
   "metadata": {},
   "outputs": [
    {
     "name": "stdout",
     "output_type": "stream",
     "text": [
      "Stopping search: maximum iterations reached --> 100\n",
      "x optimum:  [0.91692782 0.84443614 0.71540247 0.51347344 0.26252912]\n",
      "function optimum:  0.35110832254483215\n"
     ]
    }
   ],
   "source": [
    "max_it = 2000\n",
    "dim = 5\n",
    "\n",
    "lb = [-5]*dim\n",
    "ub = [10]*dim\n",
    "\n",
    "swarm_size = 60\n",
    "inertia = .4\n",
    "self_confidence = 1.5\n",
    "swarm_confidence = 2\n",
    "\n",
    "xopt, fopt = pso(rosen, lb, ub, swarmsize = swarm_size, omega = inertia, phip =self_confidence, phig = swarm_confidence)\n",
    "print(\"x optimum: \", xopt)\n",
    "print(\"function optimum: \", fopt)"
   ]
  },
  {
   "cell_type": "code",
   "execution_count": null,
   "metadata": {},
   "outputs": [],
   "source": []
  },
  {
   "cell_type": "code",
   "execution_count": 46,
   "metadata": {},
   "outputs": [
    {
     "name": "stdout",
     "output_type": "stream",
     "text": [
      "Stopping search: maximum iterations reached --> 100\n",
      "x optimum:  [ 0.87028209  0.80733487  0.67536846  0.44558655  0.26268344  0.0879204\n",
      "  0.13376648  0.13105894  0.28010854  0.12279302  0.01021532  0.04988023\n",
      " -0.05273737 -0.05204999 -0.05078287 -0.03729048  0.02636667 -5.\n",
      "  2.47655361  1.6444272   1.25880819  1.0376564   0.79352038  0.63591488\n",
      "  0.34589402  0.26333086  0.1725508   0.01263804 -3.08234904 10.        ]\n",
      "function optimum:  56553.811794800204\n"
     ]
    }
   ],
   "source": [
    "dim = 30\n",
    "\n",
    "lb = [-5]*dim\n",
    "ub = [10]*dim\n",
    "\n",
    "swarm_size = 60\n",
    "inertia = .4\n",
    "self_confidence = 1.5\n",
    "swarm_confidence = 2\n",
    "\n",
    "xopt, fopt = pso(rosen, lb, ub, swarmsize = swarm_size, omega = inertia, phip =self_confidence, phig = swarm_confidence)\n",
    "print(\"x optimum: \", xopt)\n",
    "print(\"function optimum: \", fopt)"
   ]
  },
  {
   "cell_type": "code",
   "execution_count": null,
   "metadata": {},
   "outputs": [],
   "source": []
  },
  {
   "cell_type": "code",
   "execution_count": 86,
   "metadata": {},
   "outputs": [
    {
     "name": "stdout",
     "output_type": "stream",
     "text": [
      "Stopping search: maximum iterations reached --> 2000\n",
      "x optimum:  [ 8.34955002e-01  6.95351632e-01  4.77669827e-01  2.16621659e-01\n",
      "  4.76214737e-03 -5.00000000e+00  2.48304543e+00  1.63623648e+00\n",
      "  1.29421575e+00  1.14143064e+00  1.06696288e+00  1.03216429e+00\n",
      "  1.01627340e+00  1.00811014e+00  1.00465492e+00  1.00263606e+00\n",
      "  9.98831979e-01  9.97093944e-01  9.94392764e-01  9.90173850e-01\n",
      "  9.83472435e-01  9.73431372e-01  9.46383223e-01  9.16447531e-01\n",
      "  8.47205579e-01  7.29663385e-01  5.34329161e-01  2.91409544e-01\n",
      "  9.11938057e-02  3.78972239e-03]\n",
      "function optimum:  55522.192471954004\n"
     ]
    }
   ],
   "source": [
    "dim = 30\n",
    "max_it = 2000\n",
    "\n",
    "lb = [-5]*dim\n",
    "ub = [10]*dim\n",
    "\n",
    "swarm_size = 100\n",
    "inertia = .4\n",
    "self_confidence = 1.5\n",
    "swarm_confidence = 2.0\n",
    "\n",
    "xopt, fopt = pso(rosen, lb, ub, maxiter= max_it,swarmsize = swarm_size, omega = inertia, phip =self_confidence, phig = swarm_confidence)\n",
    "print(\"x optimum: \", xopt)\n",
    "print(\"function optimum: \", fopt)"
   ]
  },
  {
   "cell_type": "code",
   "execution_count": null,
   "metadata": {},
   "outputs": [],
   "source": []
  },
  {
   "cell_type": "code",
   "execution_count": 91,
   "metadata": {},
   "outputs": [
    {
     "name": "stdout",
     "output_type": "stream",
     "text": [
      "Stopping search: maximum iterations reached --> 100\n",
      "x optimum:  [-5.00000000e+00  2.43359095e+00  1.67935536e+00  1.29479969e+00\n",
      "  9.82493502e-01  9.30292949e-01  3.53007571e-01  1.52752218e-01\n",
      "  3.12812186e-01  1.41567999e-01 -2.47019887e-01  3.95455506e-01\n",
      "  3.56506321e-01  3.71809481e-01 -1.34173271e-01 -2.11882047e-01\n",
      " -7.23534575e-04 -2.60687802e-01  2.67032948e-01 -1.65643102e-01\n",
      "  2.95877172e-01 -7.31502028e-02  4.10998697e-02 -4.93919667e-02\n",
      " -8.05628867e-01  1.17426465e+00  1.31354100e+00  1.84305741e+00\n",
      "  3.14769340e+00  9.93911276e+00]\n",
      "function optimum:  53272.56814588632\n"
     ]
    }
   ],
   "source": [
    "dim = 30\n",
    "max_it = 100\n",
    "\n",
    "lb = [-5]*dim\n",
    "ub = [10]*dim\n",
    "\n",
    "swarm_size = 100\n",
    "inertia = .4\n",
    "self_confidence = 1.6\n",
    "swarm_confidence = 2.0\n",
    "\n",
    "xopt, fopt = pso(rosen, lb, ub, maxiter= max_it,swarmsize = swarm_size, omega = inertia, phip =self_confidence, phig = swarm_confidence)\n",
    "print(\"x optimum: \", xopt)\n",
    "print(\"function optimum: \", fopt)"
   ]
  },
  {
   "cell_type": "code",
   "execution_count": null,
   "metadata": {},
   "outputs": [],
   "source": []
  },
  {
   "cell_type": "code",
   "execution_count": null,
   "metadata": {},
   "outputs": [],
   "source": []
  }
 ],
 "metadata": {
  "kernelspec": {
   "display_name": "Python 3",
   "language": "python",
   "name": "python3"
  },
  "language_info": {
   "codemirror_mode": {
    "name": "ipython",
    "version": 3
   },
   "file_extension": ".py",
   "mimetype": "text/x-python",
   "name": "python",
   "nbconvert_exporter": "python",
   "pygments_lexer": "ipython3",
   "version": "3.7.6"
  }
 },
 "nbformat": 4,
 "nbformat_minor": 2
}
