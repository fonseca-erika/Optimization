{
 "cells": [
  {
   "cell_type": "markdown",
   "metadata": {},
   "source": [
    "<h1><div class=\"alert alert-block alert-success\">\n",
    "Sequential Least Squares Programming\n",
    "</div></h1>"
   ]
  },
  {
   "cell_type": "markdown",
   "metadata": {},
   "source": [
    "Optimize the function\n",
    "\n",
    "$Min f(x) = \\sum _i^D 100*(x_{i+1}-x_i^2)^2+(x_i-1)^2$\n",
    "\n",
    "$x = [-5,10]$ it means that the constraints are $x \\seq 10$ and $x \\geq 10$ \n",
    "\n",
    "D=2\n",
    "D=10\n",
    "D= 1000\n",
    "\n",
    "Plot the convergent curves"
   ]
  },
  {
   "cell_type": "code",
   "execution_count": 120,
   "metadata": {},
   "outputs": [
    {
     "name": "stdout",
     "output_type": "stream",
     "text": [
      "[10. 10.]\n",
      "[10. 10.]\n",
      "[10. 10.]\n",
      "[9.99999993 9.99999943]\n",
      "[10. 10.]\n",
      "[9.9999995  9.99999203]\n",
      "[9.99999275 9.99984439]\n",
      "[9.99997842 9.99941602]\n",
      "[10. 10.]\n",
      "[10. 10.]\n",
      "Final result: \n",
      "[10. 10.]\n"
     ]
    },
    {
     "data": {
      "text/plain": [
       "810081.0"
      ]
     },
     "execution_count": 120,
     "metadata": {},
     "output_type": "execute_result"
    }
   ],
   "source": [
    "#Method SLSQP uses Sequential Least SQuares Programming\n",
    "\n",
    "def function_(x):\n",
    "    return sum(100.0*(x[1:]-x[:-1]**2.0)**2.0 + (x[:-1]-1)**2.0)\n",
    "\n",
    "x0 = np.array([1.2, 1.5])\n",
    "\n",
    "cons_ = ({'type': 'ineq', 'fun': lambda x: (x - 10)},\n",
    "        {'type': 'ineq', 'fun': lambda x: (x + 5)})\n",
    "\n",
    "bnds_ = ((-5, 10), (-5, 10))\n",
    "\n",
    "def print_xk(x):\n",
    "    print(x)\n",
    "\n",
    "res = minimize(function_, x0, method='SLSQP', bounds=bnds_, constraints=cons_, callback=print_xk)\n",
    "\n",
    "print(\"Final result: \")\n",
    "\n",
    "print(res.x)\n",
    "\n",
    "function_(res.x)"
   ]
  },
  {
   "cell_type": "code",
   "execution_count": 53,
   "metadata": {},
   "outputs": [
    {
     "data": {
      "text/plain": [
       "array([1.4, 1.7])"
      ]
     },
     "execution_count": 53,
     "metadata": {},
     "output_type": "execute_result"
    }
   ],
   "source": [
    "res.x"
   ]
  }
 ],
 "metadata": {
  "kernelspec": {
   "display_name": "Python 3",
   "language": "python",
   "name": "python3"
  },
  "language_info": {
   "codemirror_mode": {
    "name": "ipython",
    "version": 3
   },
   "file_extension": ".py",
   "mimetype": "text/x-python",
   "name": "python",
   "nbconvert_exporter": "python",
   "pygments_lexer": "ipython3",
   "version": "3.7.6"
  }
 },
 "nbformat": 4,
 "nbformat_minor": 2
}
